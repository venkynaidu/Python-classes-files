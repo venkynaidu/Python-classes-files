{
 "cells": [
  {
   "cell_type": "markdown",
   "metadata": {
    "toc": true
   },
   "source": [
    "<h1>Table of Contents<span class=\"tocSkip\"></span></h1>\n",
    "<div class=\"toc\"><ul class=\"toc-item\"><li><span><a href=\"#4.1-Lists\" data-toc-modified-id=\"4.1-Lists-1\">4.1 Lists</a></span><ul class=\"toc-item\"><li><span><a href=\"#4.1.1-List-Creation\" data-toc-modified-id=\"4.1.1-List-Creation-1.1\">4.1.1 List Creation</a></span></li><li><span><a href=\"#4.1.2-List-Length\" data-toc-modified-id=\"4.1.2-List-Length-1.2\">4.1.2 List Length</a></span></li><li><span><a href=\"#4.1.3-List-Append\" data-toc-modified-id=\"4.1.3-List-Append-1.3\">4.1.3 List Append</a></span></li><li><span><a href=\"#4.1.4-List-Insert\" data-toc-modified-id=\"4.1.4-List-Insert-1.4\">4.1.4 List Insert</a></span></li><li><span><a href=\"#4.1.5-List-Remove\" data-toc-modified-id=\"4.1.5-List-Remove-1.5\">4.1.5 List Remove</a></span></li><li><span><a href=\"#4.1.6-List-Append-&amp;-Extend\" data-toc-modified-id=\"4.1.6-List-Append-&amp;-Extend-1.6\">4.1.6 List Append &amp; Extend</a></span></li><li><span><a href=\"#4.1.7-List-Delete\" data-toc-modified-id=\"4.1.7-List-Delete-1.7\">4.1.7 List Delete</a></span></li><li><span><a href=\"#4.1.8-List-realted-keywords-in-Python\" data-toc-modified-id=\"4.1.8-List-realted-keywords-in-Python-1.8\">4.1.8 List realted keywords in Python</a></span></li><li><span><a href=\"#4.1.9-List-Reverse\" data-toc-modified-id=\"4.1.9-List-Reverse-1.9\">4.1.9 List Reverse</a></span></li><li><span><a href=\"#4.1.10-List-Sorting\" data-toc-modified-id=\"4.1.10-List-Sorting-1.10\">4.1.10 List Sorting</a></span></li><li><span><a href=\"#4.1.11-String-Split-to-create-a-list\" data-toc-modified-id=\"4.1.11-String-Split-to-create-a-list-1.11\">4.1.11 String Split to create a list</a></span></li><li><span><a href=\"#4.1.12-List-Indexing\" data-toc-modified-id=\"4.1.12-List-Indexing-1.12\">4.1.12 List Indexing</a></span></li><li><span><a href=\"#4.1.13--List-Slicing\" data-toc-modified-id=\"4.1.13--List-Slicing-1.13\">4.1.13  List Slicing</a></span></li><li><span><a href=\"#4.1.14-List-Count\" data-toc-modified-id=\"4.1.14-List-Count-1.14\">4.1.14 List Count</a></span></li><li><span><a href=\"#4.1.15-List-Looping\" data-toc-modified-id=\"4.1.15-List-Looping-1.15\">4.1.15 List Looping</a></span></li><li><span><a href=\"#4.1.16-List-Comprehensions\" data-toc-modified-id=\"4.1.16-List-Comprehensions-1.16\">4.1.16 List Comprehensions</a></span></li></ul></li><li><span><a href=\"#4.2-Sets\" data-toc-modified-id=\"4.2-Sets-2\">4.2 Sets</a></span><ul class=\"toc-item\"><li><span><a href=\"#4.2.1-Set-Creation\" data-toc-modified-id=\"4.2.1-Set-Creation-2.1\">4.2.1 Set Creation</a></span></li><li><span><a href=\"#4.2.2-Add-element-to-a-Set\" data-toc-modified-id=\"4.2.2-Add-element-to-a-Set-2.2\">4.2.2 Add element to a Set</a></span></li><li><span><a href=\"#4.2.3-Remove-elements-from-a-Set\" data-toc-modified-id=\"4.2.3-Remove-elements-from-a-Set-2.3\">4.2.3 Remove elements from a Set</a></span></li><li><span><a href=\"#4.2.4-Python-Set-Operations\" data-toc-modified-id=\"4.2.4-Python-Set-Operations-2.4\">4.2.4 Python Set Operations</a></span></li></ul></li></ul></div>"
   ]
  },
  {
   "cell_type": "markdown",
   "metadata": {},
   "source": [
    "## 4.1 Lists"
   ]
  },
  {
   "cell_type": "markdown",
   "metadata": {},
   "source": [
    "Data Structure:\n",
    "    \n",
    "A data structure is a collection of data elements (such as numbers or characters—or even other data structures) that is structured in some way, for example, by numbering the elements. The most basic data structure in Python is the \"sequence\"."
   ]
  },
  {
   "cell_type": "markdown",
   "metadata": {},
   "source": [
    "-> List is one of the Sequence Data structure\n",
    "\n",
    "-> Lists are collection of items (Strings, integers or even other lists)\n",
    "\n",
    "-> Lists are enclosed in [ ]\n",
    "\n",
    "-> Each item in the list has an assigned index value.\n",
    "\n",
    "-> Each item in a list is separated by a comma\n",
    "\n",
    "-> Lists are mutable, which means they can be changed.\n"
   ]
  },
  {
   "cell_type": "markdown",
   "metadata": {},
   "source": [
    "### 4.1.1 List Creation"
   ]
  },
  {
   "cell_type": "code",
   "execution_count": 1,
   "metadata": {
    "ExecuteTime": {
     "end_time": "2019-08-01T05:50:05.190581Z",
     "start_time": "2019-08-01T05:50:05.182756Z"
    }
   },
   "outputs": [
    {
     "name": "stdout",
     "output_type": "stream",
     "text": [
      "[1, 'ramu', 24, 1.24]\n"
     ]
    }
   ],
   "source": [
    "emptyList = []\n",
    "\n",
    "lst = ['one', 'two', 'three', 'four'] # list of strings\n",
    "\n",
    "lst2 = [1, 2, 3, 4] #list of integers\n",
    "\n",
    "lst3 = [[1, 2], [3, 4]] # list of lists\n",
    "\n",
    "lst4 = [1, 'ramu', 24, 1.24] # list of different datatypes\n",
    "\n",
    "print(lst4)\n"
   ]
  },
  {
   "cell_type": "markdown",
   "metadata": {},
   "source": [
    "### 4.1.2 List Length"
   ]
  },
  {
   "cell_type": "code",
   "execution_count": 2,
   "metadata": {
    "ExecuteTime": {
     "end_time": "2019-08-01T05:50:31.698675Z",
     "start_time": "2019-08-01T05:50:31.692365Z"
    }
   },
   "outputs": [
    {
     "name": "stdout",
     "output_type": "stream",
     "text": [
      "4\n"
     ]
    }
   ],
   "source": [
    "lst = ['one', 'two', 'three', 'four']\n",
    "\n",
    "#find length of a list\n",
    "print(len(lst))"
   ]
  },
  {
   "cell_type": "markdown",
   "metadata": {},
   "source": [
    "### 4.1.3 List Append"
   ]
  },
  {
   "cell_type": "code",
   "execution_count": 3,
   "metadata": {
    "ExecuteTime": {
     "end_time": "2019-08-01T05:51:22.804845Z",
     "start_time": "2019-08-01T05:51:22.797424Z"
    }
   },
   "outputs": [
    {
     "name": "stdout",
     "output_type": "stream",
     "text": [
      "['one', 'two', 'three', 'four', 'five']\n"
     ]
    }
   ],
   "source": [
    "lst = ['one', 'two', 'three', 'four']\n",
    "\n",
    "lst.append('five') # append will add the item at the end\n",
    "\n",
    "print(lst)"
   ]
  },
  {
   "cell_type": "markdown",
   "metadata": {},
   "source": [
    "### 4.1.4 List Insert"
   ]
  },
  {
   "cell_type": "code",
   "execution_count": 4,
   "metadata": {
    "ExecuteTime": {
     "end_time": "2019-08-01T05:51:48.324624Z",
     "start_time": "2019-08-01T05:51:48.317995Z"
    }
   },
   "outputs": [
    {
     "name": "stdout",
     "output_type": "stream",
     "text": [
      "['one', 'two', 'three', 'four']\n"
     ]
    }
   ],
   "source": [
    "#syntax: lst.insert(x, y) \n",
    "\n",
    "lst = ['one', 'two', 'four']\n",
    "\n",
    "lst.insert(2, \"three\") # will add element y at location x\n",
    "\n",
    "print(lst)\n"
   ]
  },
  {
   "cell_type": "markdown",
   "metadata": {},
   "source": [
    "### 4.1.5 List Remove"
   ]
  },
  {
   "cell_type": "code",
   "execution_count": 5,
   "metadata": {
    "ExecuteTime": {
     "end_time": "2019-08-01T05:52:24.932657Z",
     "start_time": "2019-08-01T05:52:24.925729Z"
    }
   },
   "outputs": [
    {
     "name": "stdout",
     "output_type": "stream",
     "text": [
      "['one', 'three', 'four', 'two']\n"
     ]
    }
   ],
   "source": [
    "#syntax: lst.remove(x) \n",
    "\n",
    "lst = ['one', 'two', 'three', 'four', 'two']\n",
    "\n",
    "lst.remove('two') #it will remove first occurence of 'two' in a given list\n",
    "\n",
    "print(lst)"
   ]
  },
  {
   "cell_type": "markdown",
   "metadata": {},
   "source": [
    "### 4.1.6 List Append & Extend"
   ]
  },
  {
   "cell_type": "code",
   "execution_count": 6,
   "metadata": {
    "ExecuteTime": {
     "end_time": "2019-08-01T05:52:49.524917Z",
     "start_time": "2019-08-01T05:52:49.518075Z"
    }
   },
   "outputs": [
    {
     "name": "stdout",
     "output_type": "stream",
     "text": [
      "['one', 'two', 'three', 'four', ['five', 'six']]\n"
     ]
    }
   ],
   "source": [
    "lst = ['one', 'two', 'three', 'four']\n",
    "\n",
    "lst2 = ['five', 'six']\n",
    "\n",
    "#append \n",
    "lst.append(lst2)\n",
    "\n",
    "print(lst)"
   ]
  },
  {
   "cell_type": "code",
   "execution_count": 7,
   "metadata": {
    "ExecuteTime": {
     "end_time": "2019-08-01T05:52:56.068135Z",
     "start_time": "2019-08-01T05:52:56.061225Z"
    }
   },
   "outputs": [
    {
     "name": "stdout",
     "output_type": "stream",
     "text": [
      "['one', 'two', 'three', 'four', 'five', 'six']\n"
     ]
    }
   ],
   "source": [
    "lst = ['one', 'two', 'three', 'four']\n",
    "\n",
    "lst2 = ['five', 'six']\n",
    "\n",
    "#extend will join the list with list1\n",
    "\n",
    "lst.extend(lst2)\n",
    "\n",
    "print(lst)"
   ]
  },
  {
   "cell_type": "markdown",
   "metadata": {},
   "source": [
    "### 4.1.7 List Delete"
   ]
  },
  {
   "cell_type": "code",
   "execution_count": 8,
   "metadata": {
    "ExecuteTime": {
     "end_time": "2019-08-01T05:53:40.135169Z",
     "start_time": "2019-08-01T05:53:40.126813Z"
    }
   },
   "outputs": [
    {
     "name": "stdout",
     "output_type": "stream",
     "text": [
      "['one', 'three', 'four', 'five']\n",
      "three\n",
      "['one', 'four', 'five']\n"
     ]
    }
   ],
   "source": [
    "#del to remove item based on index position\n",
    "\n",
    "lst = ['one', 'two', 'three', 'four', 'five']\n",
    "\n",
    "del lst[1]\n",
    "print(lst)\n",
    "\n",
    "#or we can use pop() method\n",
    "a = lst.pop(1)\n",
    "print(a)\n",
    "\n",
    "print(lst)"
   ]
  },
  {
   "cell_type": "code",
   "execution_count": 9,
   "metadata": {
    "ExecuteTime": {
     "end_time": "2019-08-01T05:53:41.971745Z",
     "start_time": "2019-08-01T05:53:41.965351Z"
    }
   },
   "outputs": [
    {
     "name": "stdout",
     "output_type": "stream",
     "text": [
      "['one', 'two', 'four']\n"
     ]
    }
   ],
   "source": [
    "lst = ['one', 'two', 'three', 'four']\n",
    "\n",
    "#remove an item from list\n",
    "lst.remove('three')\n",
    "\n",
    "print(lst)"
   ]
  },
  {
   "cell_type": "markdown",
   "metadata": {},
   "source": [
    "### 4.1.8 List realted keywords in Python"
   ]
  },
  {
   "cell_type": "code",
   "execution_count": 10,
   "metadata": {
    "ExecuteTime": {
     "end_time": "2019-08-01T05:54:11.717844Z",
     "start_time": "2019-08-01T05:54:11.710932Z"
    }
   },
   "outputs": [
    {
     "name": "stdout",
     "output_type": "stream",
     "text": [
      "AI\n",
      "ML\n"
     ]
    }
   ],
   "source": [
    "#keyword 'in' is used to test if an item is in a list\n",
    "lst = ['one', 'two', 'three', 'four']\n",
    "\n",
    "if 'two' in lst:\n",
    "    print('AI')\n",
    "\n",
    "#keyword 'not' can combined with 'in'\n",
    "if 'six' not in lst:\n",
    "    print('ML')"
   ]
  },
  {
   "cell_type": "markdown",
   "metadata": {},
   "source": [
    "### 4.1.9 List Reverse"
   ]
  },
  {
   "cell_type": "code",
   "execution_count": 11,
   "metadata": {
    "ExecuteTime": {
     "end_time": "2019-08-01T05:54:41.716540Z",
     "start_time": "2019-08-01T05:54:41.710376Z"
    }
   },
   "outputs": [
    {
     "name": "stdout",
     "output_type": "stream",
     "text": [
      "['four', 'three', 'two', 'one']\n"
     ]
    }
   ],
   "source": [
    "#reverse is reverses the entire list\n",
    "\n",
    "lst = ['one', 'two', 'three', 'four']\n",
    "\n",
    "lst.reverse()\n",
    "\n",
    "print(lst)"
   ]
  },
  {
   "cell_type": "markdown",
   "metadata": {},
   "source": [
    "### 4.1.10 List Sorting"
   ]
  },
  {
   "cell_type": "markdown",
   "metadata": {},
   "source": [
    "The easiest way to sort a List is with the sorted(list) function. \n",
    "\n",
    "That takes a list and returns a new list with those elements in sorted order. \n",
    "\n",
    "The original list is not changed. \n",
    "\n",
    "The sorted() optional argument reverse=True, e.g. sorted(list, reverse=True), \n",
    "makes it sort backwards."
   ]
  },
  {
   "cell_type": "code",
   "execution_count": 12,
   "metadata": {
    "ExecuteTime": {
     "end_time": "2019-08-01T05:55:40.054357Z",
     "start_time": "2019-08-01T05:55:40.046629Z"
    }
   },
   "outputs": [
    {
     "name": "stdout",
     "output_type": "stream",
     "text": [
      "Sorted list : [1, 2, 3, 6, 8]\n",
      "Original list:  [3, 1, 6, 2, 8]\n"
     ]
    }
   ],
   "source": [
    "#create a list with numbers\n",
    "numbers = [3, 1, 6, 2, 8]\n",
    "\n",
    "sorted_lst = sorted(numbers)\n",
    "\n",
    "\n",
    "print(\"Sorted list :\", sorted_lst)\n",
    "\n",
    "#original list remain unchanged\n",
    "print(\"Original list: \", numbers)"
   ]
  },
  {
   "cell_type": "code",
   "execution_count": 13,
   "metadata": {
    "ExecuteTime": {
     "end_time": "2019-08-01T05:55:57.411590Z",
     "start_time": "2019-08-01T05:55:57.342315Z"
    }
   },
   "outputs": [
    {
     "ename": "TypeError",
     "evalue": "unorderable types: str() < int()",
     "output_type": "error",
     "traceback": [
      "\u001b[0;31m---------------------------------------------------------------------------\u001b[0m",
      "\u001b[0;31mTypeError\u001b[0m                                 Traceback (most recent call last)",
      "\u001b[0;32m<ipython-input-13-0354af416f5c>\u001b[0m in \u001b[0;36m<module>\u001b[0;34m\u001b[0m\n\u001b[1;32m      1\u001b[0m \u001b[0mlst\u001b[0m \u001b[0;34m=\u001b[0m \u001b[0;34m[\u001b[0m\u001b[0;36m1\u001b[0m\u001b[0;34m,\u001b[0m \u001b[0;36m20\u001b[0m\u001b[0;34m,\u001b[0m \u001b[0;34m'b'\u001b[0m\u001b[0;34m,\u001b[0m \u001b[0;36m5\u001b[0m\u001b[0;34m,\u001b[0m \u001b[0;34m'a'\u001b[0m\u001b[0;34m]\u001b[0m\u001b[0;34m\u001b[0m\u001b[0m\n\u001b[0;32m----> 2\u001b[0;31m \u001b[0mprint\u001b[0m\u001b[0;34m(\u001b[0m\u001b[0mlst\u001b[0m\u001b[0;34m.\u001b[0m\u001b[0msort\u001b[0m\u001b[0;34m(\u001b[0m\u001b[0;34m)\u001b[0m\u001b[0;34m)\u001b[0m \u001b[0;31m# sort list with element of different datatypes.\u001b[0m\u001b[0;34m\u001b[0m\u001b[0m\n\u001b[0m",
      "\u001b[0;31mTypeError\u001b[0m: unorderable types: str() < int()"
     ]
    }
   ],
   "source": [
    "lst = [1, 20, 'b', 5, 'a']\n",
    "print(lst.sort()) # sort list with element of different datatypes.\n"
   ]
  },
  {
   "cell_type": "markdown",
   "metadata": {},
   "source": [
    "### 4.1.11 String Split to create a list"
   ]
  },
  {
   "cell_type": "code",
   "execution_count": 14,
   "metadata": {
    "ExecuteTime": {
     "end_time": "2019-08-01T05:56:29.192538Z",
     "start_time": "2019-08-01T05:56:29.184860Z"
    }
   },
   "outputs": [
    {
     "name": "stdout",
     "output_type": "stream",
     "text": [
      "['one', 'two', 'three', 'four', 'five']\n"
     ]
    }
   ],
   "source": [
    "#let's take a string\n",
    "\n",
    "s = \"one,two,three,four,five\"\n",
    "slst = s.split(',')\n",
    "print(slst)"
   ]
  },
  {
   "cell_type": "code",
   "execution_count": 15,
   "metadata": {
    "ExecuteTime": {
     "end_time": "2019-08-01T05:56:57.082240Z",
     "start_time": "2019-08-01T05:56:57.076431Z"
    }
   },
   "outputs": [
    {
     "name": "stdout",
     "output_type": "stream",
     "text": [
      "['This', 'is', 'PYTHON', 'introduction']\n"
     ]
    }
   ],
   "source": [
    "s = \"This is PYTHON introduction\"\n",
    "split_lst = s.split() # default split is white-character: space or tab\n",
    "print(split_lst)\n"
   ]
  },
  {
   "cell_type": "markdown",
   "metadata": {},
   "source": [
    "### 4.1.12 List Indexing"
   ]
  },
  {
   "cell_type": "code",
   "execution_count": 18,
   "metadata": {
    "ExecuteTime": {
     "end_time": "2019-08-01T05:58:20.503907Z",
     "start_time": "2019-08-01T05:58:20.496721Z"
    }
   },
   "outputs": [
    {
     "name": "stdout",
     "output_type": "stream",
     "text": [
      "2\n",
      "3\n"
     ]
    }
   ],
   "source": [
    "lst = [1, 2, 3, 4]\n",
    "print(lst[1]) #print second element\n",
    "\n",
    "#print last element using negative index\n",
    "print(lst[-2])"
   ]
  },
  {
   "cell_type": "markdown",
   "metadata": {},
   "source": [
    "### 4.1.13  List Slicing"
   ]
  },
  {
   "cell_type": "markdown",
   "metadata": {},
   "source": [
    "Accessing parts of segments is called slicing. \n",
    "\n",
    "The key point to remember is that the :end value represents the first value that \n",
    "is not in the selected slice. "
   ]
  },
  {
   "cell_type": "code",
   "execution_count": 19,
   "metadata": {
    "ExecuteTime": {
     "end_time": "2019-08-01T05:58:55.191129Z",
     "start_time": "2019-08-01T05:58:55.184294Z"
    }
   },
   "outputs": [
    {
     "name": "stdout",
     "output_type": "stream",
     "text": [
      "[10, 20, 30, 40, 50, 60, 70, 80]\n",
      "[10, 20, 30, 40]\n"
     ]
    }
   ],
   "source": [
    "numbers = [10, 20, 30, 40, 50,60,70,80]\n",
    "\n",
    "#print all numbers\n",
    "print(numbers[:]) \n",
    "\n",
    "#print from index 0 to index 3\n",
    "print(numbers[0:4])\n"
   ]
  },
  {
   "cell_type": "code",
   "execution_count": 20,
   "metadata": {
    "ExecuteTime": {
     "end_time": "2019-08-01T05:59:04.151770Z",
     "start_time": "2019-08-01T05:59:04.145011Z"
    }
   },
   "outputs": [
    {
     "name": "stdout",
     "output_type": "stream",
     "text": [
      "[10, 20, 30, 40, 50, 60, 70, 80]\n",
      "[10, 30, 50, 70]\n",
      "[30, 50, 70]\n"
     ]
    }
   ],
   "source": [
    "print (numbers)\n",
    "#print alternate elements in a list\n",
    "print(numbers[::2])\n",
    "\n",
    "\n",
    "#print elemnts start from 0 through rest of the list\n",
    "print(numbers[2::2])\n"
   ]
  },
  {
   "cell_type": "markdown",
   "metadata": {},
   "source": [
    "### 4.1.14 List Count"
   ]
  },
  {
   "cell_type": "code",
   "execution_count": 21,
   "metadata": {
    "ExecuteTime": {
     "end_time": "2019-08-01T05:59:37.767435Z",
     "start_time": "2019-08-01T05:59:37.760595Z"
    }
   },
   "outputs": [
    {
     "name": "stdout",
     "output_type": "stream",
     "text": [
      "2\n",
      "2\n"
     ]
    }
   ],
   "source": [
    "numbers = [1, 2, 3, 1, 3, 4, 2, 5]\n",
    "\n",
    "#frequency of 1 in a list\n",
    "print(numbers.count(1))\n",
    "\n",
    "#frequency of 3 in a list\n",
    "print(numbers.count(3))"
   ]
  },
  {
   "cell_type": "markdown",
   "metadata": {},
   "source": [
    "### 4.1.15 List Looping"
   ]
  },
  {
   "cell_type": "code",
   "execution_count": 22,
   "metadata": {
    "ExecuteTime": {
     "end_time": "2019-08-01T06:00:17.098067Z",
     "start_time": "2019-08-01T06:00:17.089336Z"
    }
   },
   "outputs": [
    {
     "name": "stdout",
     "output_type": "stream",
     "text": [
      "one\n",
      "two\n",
      "three\n",
      "four\n"
     ]
    }
   ],
   "source": [
    "#loop through a list\n",
    "\n",
    "lst = ['one', 'two', 'three', 'four']\n",
    "\n",
    "for ele in lst:\n",
    "    print(ele)"
   ]
  },
  {
   "cell_type": "markdown",
   "metadata": {},
   "source": [
    "### 4.1.16 List Comprehensions"
   ]
  },
  {
   "cell_type": "markdown",
   "metadata": {},
   "source": [
    "List comprehensions provide a concise way to create lists. \n",
    "\n",
    "Common applications are to make new lists where each element is the result of some operations applied to each member of another sequence or iterable, or to create a subsequence of those elements that satisfy a certain condition."
   ]
  },
  {
   "cell_type": "code",
   "execution_count": 23,
   "metadata": {
    "ExecuteTime": {
     "end_time": "2019-08-01T06:01:02.999350Z",
     "start_time": "2019-08-01T06:01:02.993079Z"
    }
   },
   "outputs": [
    {
     "name": "stdout",
     "output_type": "stream",
     "text": [
      "[0, 1, 4, 9, 16, 25, 36, 49, 64, 81]\n"
     ]
    }
   ],
   "source": [
    "#using list comprehension\n",
    "squares = [i**2 for i in range(10)]\n",
    "print(squares)"
   ]
  },
  {
   "cell_type": "code",
   "execution_count": 24,
   "metadata": {
    "ExecuteTime": {
     "end_time": "2019-08-01T06:01:09.081631Z",
     "start_time": "2019-08-01T06:01:09.074557Z"
    }
   },
   "outputs": [
    {
     "name": "stdout",
     "output_type": "stream",
     "text": [
      "[0, 1, 4, 9, 16, 25, 36, 49, 64, 81]\n"
     ]
    }
   ],
   "source": [
    "# without list comprehension\n",
    "squares = []\n",
    "for i in range(10):\n",
    "    squares.append(i**2)   #list append\n",
    "print(squares)"
   ]
  },
  {
   "cell_type": "code",
   "execution_count": 25,
   "metadata": {
    "ExecuteTime": {
     "end_time": "2019-08-01T06:01:20.361589Z",
     "start_time": "2019-08-01T06:01:20.352661Z"
    }
   },
   "outputs": [
    {
     "name": "stdout",
     "output_type": "stream",
     "text": [
      "[-20, -40, 20, 40, 100]\n",
      "[10, 20, 50]\n",
      "[(0, 0), (1, 1), (2, 4), (3, 9), (4, 16), (5, 25), (6, 36), (7, 49), (8, 64), (9, 81)]\n"
     ]
    }
   ],
   "source": [
    "#example\n",
    "\n",
    "lst = [-10, -20, 10, 20, 50]\n",
    "\n",
    "#create a new list with values doubled\n",
    "new_lst = [i*2 for i in lst]\n",
    "print(new_lst)\n",
    "\n",
    "#filter the list to exclude negative numbers\n",
    "new_lst = [i for i in lst if i >= 0]\n",
    "print(new_lst)\n",
    "\n",
    "\n",
    "#create a list of tuples like (number, square_of_number)\n",
    "new_lst = [(i, i**2) for i in range(10)]\n",
    "print(new_lst)"
   ]
  },
  {
   "cell_type": "markdown",
   "metadata": {},
   "source": [
    "## 4.2 Sets"
   ]
  },
  {
   "cell_type": "markdown",
   "metadata": {},
   "source": [
    "-> A set is an unordered collection of items. Every element is unique (no duplicates).\n",
    "\n",
    "-> The set itself is mutable. We can add or remove items from it.\n",
    "\n",
    "-> Sets can be used to perform mathematical set operations like union, intersection, symmetric difference etc."
   ]
  },
  {
   "cell_type": "markdown",
   "metadata": {},
   "source": [
    "### 4.2.1 Set Creation"
   ]
  },
  {
   "cell_type": "code",
   "execution_count": 26,
   "metadata": {
    "ExecuteTime": {
     "end_time": "2019-08-01T06:02:32.089329Z",
     "start_time": "2019-08-01T06:02:32.082333Z"
    }
   },
   "outputs": [
    {
     "name": "stdout",
     "output_type": "stream",
     "text": [
      "{1, 2, 3}\n",
      "<class 'set'>\n"
     ]
    }
   ],
   "source": [
    "#set of integers\n",
    "s = {1, 2, 3}\n",
    "print(s)\n",
    "\n",
    "#print type of s \n",
    "print(type(s))"
   ]
  },
  {
   "cell_type": "code",
   "execution_count": 27,
   "metadata": {
    "ExecuteTime": {
     "end_time": "2019-08-01T06:02:42.121492Z",
     "start_time": "2019-08-01T06:02:42.115221Z"
    }
   },
   "outputs": [
    {
     "name": "stdout",
     "output_type": "stream",
     "text": [
      "{1, 2, 3, 4}\n"
     ]
    }
   ],
   "source": [
    "#set doesn't allow duplicates. They store only one instance.\n",
    "s = {1, 2, 3, 1, 4}\n",
    "print(s)"
   ]
  },
  {
   "cell_type": "code",
   "execution_count": 28,
   "metadata": {
    "ExecuteTime": {
     "end_time": "2019-08-01T06:03:04.056722Z",
     "start_time": "2019-08-01T06:03:04.050428Z"
    }
   },
   "outputs": [
    {
     "name": "stdout",
     "output_type": "stream",
     "text": [
      "{1, 2, 3}\n"
     ]
    }
   ],
   "source": [
    "#we can make set from a list\n",
    "s = set([1, 2, 3, 1])\n",
    "print(s)"
   ]
  },
  {
   "cell_type": "code",
   "execution_count": 29,
   "metadata": {
    "ExecuteTime": {
     "end_time": "2019-08-01T06:03:11.815016Z",
     "start_time": "2019-08-01T06:03:11.809138Z"
    }
   },
   "outputs": [
    {
     "name": "stdout",
     "output_type": "stream",
     "text": [
      "<class 'set'>\n"
     ]
    }
   ],
   "source": [
    "#initialize a set  with set() method\n",
    "s = set()\n",
    "\n",
    "print(type(s))"
   ]
  },
  {
   "cell_type": "markdown",
   "metadata": {},
   "source": [
    "### 4.2.2 Add element to a Set"
   ]
  },
  {
   "cell_type": "code",
   "execution_count": 30,
   "metadata": {
    "ExecuteTime": {
     "end_time": "2019-08-01T06:03:43.631276Z",
     "start_time": "2019-08-01T06:03:43.618235Z"
    }
   },
   "outputs": [
    {
     "ename": "TypeError",
     "evalue": "'set' object does not support indexing",
     "output_type": "error",
     "traceback": [
      "\u001b[0;31m---------------------------------------------------------------------------\u001b[0m",
      "\u001b[0;31mTypeError\u001b[0m                                 Traceback (most recent call last)",
      "\u001b[0;32m<ipython-input-30-22d0618a89be>\u001b[0m in \u001b[0;36m<module>\u001b[0;34m\u001b[0m\n\u001b[1;32m      4\u001b[0m \u001b[0;34m\u001b[0m\u001b[0m\n\u001b[1;32m      5\u001b[0m \u001b[0;31m#set object doesn't support indexing\u001b[0m\u001b[0;34m\u001b[0m\u001b[0;34m\u001b[0m\u001b[0m\n\u001b[0;32m----> 6\u001b[0;31m \u001b[0mprint\u001b[0m\u001b[0;34m(\u001b[0m\u001b[0ms\u001b[0m\u001b[0;34m[\u001b[0m\u001b[0;36m1\u001b[0m\u001b[0;34m]\u001b[0m\u001b[0;34m)\u001b[0m \u001b[0;31m#will get TypeError\u001b[0m\u001b[0;34m\u001b[0m\u001b[0m\n\u001b[0m",
      "\u001b[0;31mTypeError\u001b[0m: 'set' object does not support indexing"
     ]
    }
   ],
   "source": [
    "#we can add single element using add() method and \n",
    "#add multiple elements using update() method\n",
    "s = {1, 3}\n",
    "\n",
    "#set object doesn't support indexing\n",
    "print(s[1]) #will get TypeError"
   ]
  },
  {
   "cell_type": "code",
   "execution_count": 31,
   "metadata": {
    "ExecuteTime": {
     "end_time": "2019-08-01T06:04:04.859809Z",
     "start_time": "2019-08-01T06:04:04.853407Z"
    }
   },
   "outputs": [
    {
     "name": "stdout",
     "output_type": "stream",
     "text": [
      "{1, 2, 3}\n"
     ]
    }
   ],
   "source": [
    "#add element\n",
    "s.add(2)\n",
    "print(s)"
   ]
  },
  {
   "cell_type": "code",
   "execution_count": 32,
   "metadata": {
    "ExecuteTime": {
     "end_time": "2019-08-01T06:04:14.120321Z",
     "start_time": "2019-08-01T06:04:14.114534Z"
    }
   },
   "outputs": [
    {
     "name": "stdout",
     "output_type": "stream",
     "text": [
      "{1, 2, 3, 5, 6}\n"
     ]
    }
   ],
   "source": [
    "#add multiple elements\n",
    "s.update([5, 6, 1])\n",
    "print(s)"
   ]
  },
  {
   "cell_type": "markdown",
   "metadata": {},
   "source": [
    "### 4.2.3 Remove elements from a Set"
   ]
  },
  {
   "cell_type": "code",
   "execution_count": 34,
   "metadata": {
    "ExecuteTime": {
     "end_time": "2019-08-01T06:05:51.678588Z",
     "start_time": "2019-08-01T06:05:51.670399Z"
    }
   },
   "outputs": [
    {
     "name": "stdout",
     "output_type": "stream",
     "text": [
      "{1, 2, 3, 4, 5}\n",
      "{1, 2, 3, 5}\n"
     ]
    }
   ],
   "source": [
    "#A particular item can be removed from set using methods, \n",
    "#discard() and remove().\n",
    "\n",
    "s = {1, 2, 3, 5, 4}\n",
    "print(s)\n",
    "\n",
    "s.discard(4)    #4 is removed from set s\n",
    "\n",
    "print(s)"
   ]
  },
  {
   "cell_type": "code",
   "execution_count": 35,
   "metadata": {
    "ExecuteTime": {
     "end_time": "2019-08-01T06:05:57.800603Z",
     "start_time": "2019-08-01T06:05:57.795033Z"
    }
   },
   "outputs": [
    {
     "name": "stdout",
     "output_type": "stream",
     "text": [
      "{1, 3, 5}\n"
     ]
    }
   ],
   "source": [
    "#remove an element \n",
    "s.remove(2)\n",
    "\n",
    "print(s)"
   ]
  },
  {
   "cell_type": "code",
   "execution_count": 36,
   "metadata": {
    "ExecuteTime": {
     "end_time": "2019-08-01T06:06:04.815848Z",
     "start_time": "2019-08-01T06:06:04.802902Z"
    }
   },
   "outputs": [
    {
     "ename": "KeyError",
     "evalue": "7",
     "output_type": "error",
     "traceback": [
      "\u001b[0;31m---------------------------------------------------------------------------\u001b[0m",
      "\u001b[0;31mKeyError\u001b[0m                                  Traceback (most recent call last)",
      "\u001b[0;32m<ipython-input-36-fcd391652dec>\u001b[0m in \u001b[0;36m<module>\u001b[0;34m\u001b[0m\n\u001b[1;32m      1\u001b[0m \u001b[0;31m#remove an element not present in a set s\u001b[0m\u001b[0;34m\u001b[0m\u001b[0;34m\u001b[0m\u001b[0m\n\u001b[0;32m----> 2\u001b[0;31m \u001b[0ms\u001b[0m\u001b[0;34m.\u001b[0m\u001b[0mremove\u001b[0m\u001b[0;34m(\u001b[0m\u001b[0;36m7\u001b[0m\u001b[0;34m)\u001b[0m \u001b[0;31m# will get KeyError\u001b[0m\u001b[0;34m\u001b[0m\u001b[0m\n\u001b[0m",
      "\u001b[0;31mKeyError\u001b[0m: 7"
     ]
    }
   ],
   "source": [
    "#remove an element not present in a set s\n",
    "s.remove(7) # will get KeyError"
   ]
  },
  {
   "cell_type": "code",
   "execution_count": 37,
   "metadata": {
    "ExecuteTime": {
     "end_time": "2019-08-01T06:06:19.402619Z",
     "start_time": "2019-08-01T06:06:19.396900Z"
    }
   },
   "outputs": [
    {
     "name": "stdout",
     "output_type": "stream",
     "text": [
      "{1, 3, 5}\n"
     ]
    }
   ],
   "source": [
    "#discard an element not present in a set s\n",
    "s.discard(7)\n",
    "print(s)"
   ]
  },
  {
   "cell_type": "code",
   "execution_count": 38,
   "metadata": {
    "ExecuteTime": {
     "end_time": "2019-08-01T06:06:25.544885Z",
     "start_time": "2019-08-01T06:06:25.538539Z"
    }
   },
   "outputs": [
    {
     "name": "stdout",
     "output_type": "stream",
     "text": [
      "{2, 3, 4, 5}\n"
     ]
    }
   ],
   "source": [
    "#we can remove item using pop() method\n",
    "\n",
    "s = {1, 2, 3, 5, 4}\n",
    "\n",
    "s.pop() #remove random element\n",
    "\n",
    "print(s)"
   ]
  },
  {
   "cell_type": "code",
   "execution_count": 39,
   "metadata": {
    "ExecuteTime": {
     "end_time": "2019-08-01T06:06:34.636636Z",
     "start_time": "2019-08-01T06:06:34.630230Z"
    }
   },
   "outputs": [
    {
     "name": "stdout",
     "output_type": "stream",
     "text": [
      "{3, 4, 5}\n"
     ]
    }
   ],
   "source": [
    "s.pop() \n",
    "print(s)"
   ]
  },
  {
   "cell_type": "code",
   "execution_count": 40,
   "metadata": {
    "ExecuteTime": {
     "end_time": "2019-08-01T06:06:46.074415Z",
     "start_time": "2019-08-01T06:06:46.067610Z"
    }
   },
   "outputs": [
    {
     "name": "stdout",
     "output_type": "stream",
     "text": [
      "set()\n"
     ]
    }
   ],
   "source": [
    "s = {1, 5, 2, 3, 6}\n",
    "\n",
    "s.clear()   #remove all items in set using clear() method\n",
    "\n",
    "print(s)"
   ]
  },
  {
   "cell_type": "markdown",
   "metadata": {},
   "source": [
    "### 4.2.4 Python Set Operations"
   ]
  },
  {
   "cell_type": "code",
   "execution_count": 41,
   "metadata": {
    "ExecuteTime": {
     "end_time": "2019-08-01T06:07:17.901266Z",
     "start_time": "2019-08-01T06:07:17.894420Z"
    }
   },
   "outputs": [
    {
     "name": "stdout",
     "output_type": "stream",
     "text": [
      "{1, 2, 3, 4, 5, 6, 7}\n"
     ]
    }
   ],
   "source": [
    "set1 = {1, 2, 3, 4, 5}\n",
    "set2 = {3, 4, 5, 6, 7}\n",
    "\n",
    "#union of 2 sets using | operator\n",
    "\n",
    "print(set1 | set2)"
   ]
  },
  {
   "cell_type": "code",
   "execution_count": 42,
   "metadata": {
    "ExecuteTime": {
     "end_time": "2019-08-01T06:07:23.446632Z",
     "start_time": "2019-08-01T06:07:23.440156Z"
    }
   },
   "outputs": [
    {
     "name": "stdout",
     "output_type": "stream",
     "text": [
      "{1, 2, 3, 4, 5, 6, 7}\n"
     ]
    }
   ],
   "source": [
    "#another way of getting union of 2 sets\n",
    "print(set1.union(set2))"
   ]
  },
  {
   "cell_type": "code",
   "execution_count": 43,
   "metadata": {
    "ExecuteTime": {
     "end_time": "2019-08-01T06:07:30.727205Z",
     "start_time": "2019-08-01T06:07:30.721620Z"
    }
   },
   "outputs": [
    {
     "name": "stdout",
     "output_type": "stream",
     "text": [
      "{3, 4, 5}\n"
     ]
    }
   ],
   "source": [
    "#intersection of 2 sets using & operator\n",
    "print(set1 & set2)"
   ]
  },
  {
   "cell_type": "code",
   "execution_count": 44,
   "metadata": {
    "ExecuteTime": {
     "end_time": "2019-08-01T06:07:43.750985Z",
     "start_time": "2019-08-01T06:07:43.744100Z"
    }
   },
   "outputs": [
    {
     "name": "stdout",
     "output_type": "stream",
     "text": [
      "{3, 4, 5}\n"
     ]
    }
   ],
   "source": [
    "#use intersection function \n",
    "print(set1.intersection(set2))"
   ]
  },
  {
   "cell_type": "code",
   "execution_count": 45,
   "metadata": {
    "ExecuteTime": {
     "end_time": "2019-08-01T06:07:54.504787Z",
     "start_time": "2019-08-01T06:07:54.499273Z"
    }
   },
   "outputs": [
    {
     "name": "stdout",
     "output_type": "stream",
     "text": [
      "{1, 2}\n"
     ]
    }
   ],
   "source": [
    "print(set1 - set2)"
   ]
  },
  {
   "cell_type": "code",
   "execution_count": 46,
   "metadata": {
    "ExecuteTime": {
     "end_time": "2019-08-01T06:08:02.216574Z",
     "start_time": "2019-08-01T06:08:02.210715Z"
    }
   },
   "outputs": [
    {
     "name": "stdout",
     "output_type": "stream",
     "text": [
      "{1, 2}\n"
     ]
    }
   ],
   "source": [
    "#use differnce function \n",
    "print(set1.difference(set2))"
   ]
  }
 ],
 "metadata": {
  "kernelspec": {
   "display_name": "Python 3",
   "language": "python",
   "name": "python3"
  },
  "language_info": {
   "codemirror_mode": {
    "name": "ipython",
    "version": 3
   },
   "file_extension": ".py",
   "mimetype": "text/x-python",
   "name": "python",
   "nbconvert_exporter": "python",
   "pygments_lexer": "ipython3",
   "version": "3.5.2"
  },
  "latex_envs": {
   "LaTeX_envs_menu_present": true,
   "autoclose": false,
   "autocomplete": true,
   "bibliofile": "biblio.bib",
   "cite_by": "apalike",
   "current_citInitial": 1,
   "eqLabelWithNumbers": true,
   "eqNumInitial": 1,
   "hotkeys": {
    "equation": "Ctrl-E",
    "itemize": "Ctrl-I"
   },
   "labels_anchors": false,
   "latex_user_defs": false,
   "report_style_numbering": false,
   "user_envs_cfg": false
  },
  "toc": {
   "base_numbering": 1,
   "nav_menu": {},
   "number_sections": false,
   "sideBar": true,
   "skip_h1_title": false,
   "title_cell": "Table of Contents",
   "title_sidebar": "Contents",
   "toc_cell": true,
   "toc_position": {},
   "toc_section_display": true,
   "toc_window_display": true
  },
  "varInspector": {
   "cols": {
    "lenName": 16,
    "lenType": 16,
    "lenVar": 40
   },
   "kernels_config": {
    "python": {
     "delete_cmd_postfix": "",
     "delete_cmd_prefix": "del ",
     "library": "var_list.py",
     "varRefreshCmd": "print(var_dic_list())"
    },
    "r": {
     "delete_cmd_postfix": ") ",
     "delete_cmd_prefix": "rm(",
     "library": "var_list.r",
     "varRefreshCmd": "cat(var_dic_list()) "
    }
   },
   "types_to_exclude": [
    "module",
    "function",
    "builtin_function_or_method",
    "instance",
    "_Feature"
   ],
   "window_display": false
  }
 },
 "nbformat": 4,
 "nbformat_minor": 2
}
