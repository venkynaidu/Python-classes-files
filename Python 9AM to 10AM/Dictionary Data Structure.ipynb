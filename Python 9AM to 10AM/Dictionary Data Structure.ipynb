{
 "cells": [
  {
   "cell_type": "code",
   "execution_count": 1,
   "metadata": {},
   "outputs": [
    {
     "name": "stdout",
     "output_type": "stream",
     "text": [
      "<class 'dict'>\n"
     ]
    }
   ],
   "source": [
    "d={}\n",
    "print(type(d))"
   ]
  },
  {
   "cell_type": "code",
   "execution_count": 5,
   "metadata": {},
   "outputs": [
    {
     "name": "stdout",
     "output_type": "stream",
     "text": [
      "<class 'dict'>\n"
     ]
    }
   ],
   "source": [
    "d=dict()\n",
    "print(type(d))\n"
   ]
  },
  {
   "cell_type": "code",
   "execution_count": 6,
   "metadata": {},
   "outputs": [
    {
     "name": "stdout",
     "output_type": "stream",
     "text": [
      "{}\n"
     ]
    }
   ],
   "source": [
    "d={}\n",
    "d[100]:\"Venky\"\n",
    "print(d)"
   ]
  },
  {
   "cell_type": "code",
   "execution_count": 7,
   "metadata": {},
   "outputs": [
    {
     "name": "stdout",
     "output_type": "stream",
     "text": [
      "{100: 'Venky', 200: 'Murali', 300: 'Madhavi'}\n"
     ]
    }
   ],
   "source": [
    "d={100:\"Venky\",200:\"Murali\",300:\"Madhavi\"}\n",
    "print(d)"
   ]
  },
  {
   "cell_type": "code",
   "execution_count": 8,
   "metadata": {},
   "outputs": [
    {
     "name": "stdout",
     "output_type": "stream",
     "text": [
      "{100: 'Manasa', 200: 'Murali', 300: 'Madhavi'}\n"
     ]
    }
   ],
   "source": [
    "d[100]=\"Manasa\"\n",
    "print(d)"
   ]
  },
  {
   "cell_type": "code",
   "execution_count": 10,
   "metadata": {},
   "outputs": [
    {
     "name": "stdout",
     "output_type": "stream",
     "text": [
      "{100: 'Manasa', 200: 'Murali', 300: 'Madhavi', 400: 'Venky'}\n"
     ]
    }
   ],
   "source": [
    "d[400]=\"Venky\"\n",
    "print(d)"
   ]
  },
  {
   "cell_type": "markdown",
   "metadata": {},
   "source": [
    "## Accessing of elements of dictionary"
   ]
  },
  {
   "cell_type": "code",
   "execution_count": 11,
   "metadata": {},
   "outputs": [
    {
     "name": "stdout",
     "output_type": "stream",
     "text": [
      "{100: 'Venky', 200: 'Manasa', 300: 'Murali', 400: 'Madhavi'}\n"
     ]
    }
   ],
   "source": [
    "d={}\n",
    "d[100]=\"Venky\"\n",
    "d[200]=\"Manasa\"\n",
    "d[300]=\"Murali\"\n",
    "d[400]=\"Madhavi\"\n",
    "print(d)"
   ]
  },
  {
   "cell_type": "code",
   "execution_count": 12,
   "metadata": {},
   "outputs": [
    {
     "name": "stdout",
     "output_type": "stream",
     "text": [
      "Venky\n"
     ]
    }
   ],
   "source": [
    "print(d[100])"
   ]
  },
  {
   "cell_type": "code",
   "execution_count": 13,
   "metadata": {},
   "outputs": [
    {
     "ename": "KeyError",
     "evalue": "600",
     "output_type": "error",
     "traceback": [
      "\u001b[1;31m---------------------------------------------------------------------------\u001b[0m",
      "\u001b[1;31mKeyError\u001b[0m                                  Traceback (most recent call last)",
      "\u001b[1;32m<ipython-input-13-9304714d9bac>\u001b[0m in \u001b[0;36m<module>\u001b[1;34m\u001b[0m\n\u001b[1;32m----> 1\u001b[1;33m \u001b[0mprint\u001b[0m\u001b[1;33m(\u001b[0m\u001b[0md\u001b[0m\u001b[1;33m[\u001b[0m\u001b[1;36m600\u001b[0m\u001b[1;33m]\u001b[0m\u001b[1;33m)\u001b[0m\u001b[1;33m\u001b[0m\u001b[1;33m\u001b[0m\u001b[0m\n\u001b[0m",
      "\u001b[1;31mKeyError\u001b[0m: 600"
     ]
    }
   ],
   "source": [
    "print(d[600])"
   ]
  },
  {
   "cell_type": "markdown",
   "metadata": {},
   "source": [
    "has_key():\n",
    "    which is used to check the key availability in the dictionary\n",
    "    \n",
    "    It returns =1 if the key is available in the dictionary \n",
    "    it returns =0 if the key is not available in the dictionary"
   ]
  },
  {
   "cell_type": "code",
   "execution_count": 14,
   "metadata": {},
   "outputs": [
    {
     "name": "stdout",
     "output_type": "stream",
     "text": [
      "{100: 'Venky', 200: 'Manasa', 300: 'Murali', 400: 'Madhavi'}\n"
     ]
    }
   ],
   "source": [
    "print(d)"
   ]
  },
  {
   "cell_type": "code",
   "execution_count": 16,
   "metadata": {},
   "outputs": [
    {
     "name": "stdout",
     "output_type": "stream",
     "text": [
      "Key not available\n"
     ]
    }
   ],
   "source": [
    "if 600 in d:\n",
    "    print(d[600])\n",
    "else:\n",
    "    print(\"Key not available\")"
   ]
  },
  {
   "cell_type": "code",
   "execution_count": 20,
   "metadata": {},
   "outputs": [
    {
     "name": "stdout",
     "output_type": "stream",
     "text": [
      "Enter number of students:2\n",
      "Enter student name:murali\n",
      "Enter student marks:30\n",
      "Enter student name:venky\n",
      "Enter student marks:30\n",
      " Name of the student: \t Marks\n",
      "\t murali \t   30\n",
      "\t venky \t   30\n"
     ]
    }
   ],
   "source": [
    "#Program to enter student details like name,marks in dictionary and print \n",
    "std={}\n",
    "n=int(input(\"Enter number of students:\"))\n",
    "i=1\n",
    "while i<=n:\n",
    "    name=input(\"Enter student name:\")\n",
    "    marks=int(input(\"Enter student marks:\"))\n",
    "    std[name]=marks\n",
    "    i=i+1\n",
    "print(\" Name of the student:\",'\\t',\"Marks\")\n",
    "for x in std:\n",
    "    print(\"\\t\",x,'\\t  ',std[x])"
   ]
  },
  {
   "cell_type": "markdown",
   "metadata": {},
   "source": [
    "### Deleting of elements from dictionary:"
   ]
  },
  {
   "cell_type": "code",
   "execution_count": null,
   "metadata": {},
   "outputs": [],
   "source": [
    "del d[key]"
   ]
  },
  {
   "cell_type": "code",
   "execution_count": 21,
   "metadata": {},
   "outputs": [
    {
     "name": "stdout",
     "output_type": "stream",
     "text": [
      "{100: 'Venky', 200: 'Manasa', 300: 'Madhavi'}\n",
      "{100: 'Venky', 300: 'Madhavi'}\n"
     ]
    }
   ],
   "source": [
    "d={100:\"Venky\",200:\"Manasa\",300:\"Madhavi\"}\n",
    "print(d)\n",
    "del d[200]\n",
    "print(d)"
   ]
  },
  {
   "cell_type": "code",
   "execution_count": 22,
   "metadata": {},
   "outputs": [
    {
     "name": "stdout",
     "output_type": "stream",
     "text": [
      "{'vennky': 100, 'manasa': 200}\n",
      "200\n"
     ]
    }
   ],
   "source": [
    "d={\"vennky\":100,\"manasa\":200}\n",
    "print(d)\n",
    "print(d[\"manasa\"])"
   ]
  },
  {
   "cell_type": "code",
   "execution_count": null,
   "metadata": {},
   "outputs": [],
   "source": []
  }
 ],
 "metadata": {
  "kernelspec": {
   "display_name": "Python 3",
   "language": "python",
   "name": "python3"
  },
  "language_info": {
   "codemirror_mode": {
    "name": "ipython",
    "version": 3
   },
   "file_extension": ".py",
   "mimetype": "text/x-python",
   "name": "python",
   "nbconvert_exporter": "python",
   "pygments_lexer": "ipython3",
   "version": "3.7.4"
  }
 },
 "nbformat": 4,
 "nbformat_minor": 4
}
