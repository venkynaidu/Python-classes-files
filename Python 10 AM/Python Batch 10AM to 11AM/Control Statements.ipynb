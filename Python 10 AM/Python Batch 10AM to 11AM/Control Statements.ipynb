{
 "cells": [
  {
   "cell_type": "markdown",
   "metadata": {},
   "source": [
    "# 1. if :"
   ]
  },
  {
   "cell_type": "code",
   "execution_count": 4,
   "metadata": {},
   "outputs": [
    {
     "name": "stdout",
     "output_type": "stream",
     "text": [
      "Enter number to check10\n",
      "+ve number\n"
     ]
    }
   ],
   "source": [
    "#Example program to check the given num is +ve or -ve\n",
    "n=int(input(\"Enter number to check\"))\n",
    "if n>0:\n",
    "    print(\"+ve number\")\n",
    "if n<0:\n",
    "    print(\"-ve number\")"
   ]
  },
  {
   "cell_type": "code",
   "execution_count": 6,
   "metadata": {},
   "outputs": [
    {
     "name": "stdout",
     "output_type": "stream",
     "text": [
      "Enter number to check even or odd:5\n",
      "odd number\n"
     ]
    }
   ],
   "source": [
    "#program to check the given num is even or odd\n",
    "n=int(input(\"Enter number to check even or odd:\"))\n",
    "if n%2==0:\n",
    "    print(\"Even number\")\n",
    "\n",
    "if n%2!=0:\n",
    "    print(\"odd number\")"
   ]
  },
  {
   "cell_type": "markdown",
   "metadata": {},
   "source": [
    "# 2. if else:"
   ]
  },
  {
   "cell_type": "code",
   "execution_count": 8,
   "metadata": {},
   "outputs": [
    {
     "name": "stdout",
     "output_type": "stream",
     "text": [
      "Enter number to check +ve or -ve:-3\n",
      "-ve number\n"
     ]
    }
   ],
   "source": [
    "#exampl program to check the given number is +ve or -ve\n",
    "n=int(input(\"Enter number to check +ve or -ve:\"))\n",
    "if n>0:\n",
    "    print(\"+ve number\")\n",
    "else:\n",
    "    print(\"-ve number\")"
   ]
  },
  {
   "cell_type": "code",
   "execution_count": 10,
   "metadata": {},
   "outputs": [
    {
     "name": "stdout",
     "output_type": "stream",
     "text": [
      "Enter number to check even or odd:7\n",
      "odd number\n"
     ]
    }
   ],
   "source": [
    "#program to check the given num is even or odd\n",
    "n=int(input(\"Enter number to check even or odd:\"))\n",
    "if n%2==0:\n",
    "    print(\"Even number\")\n",
    "else:\n",
    "    print(\"odd number\")"
   ]
  },
  {
   "cell_type": "code",
   "execution_count": 11,
   "metadata": {},
   "outputs": [
    {
     "name": "stdout",
     "output_type": "stream",
     "text": [
      "b is big\n"
     ]
    }
   ],
   "source": [
    "#program to find the biggest number of given two numbers\n",
    "a=10\n",
    "b=20\n",
    "if a>b:\n",
    "    print(\"a is big\")\n",
    "else:\n",
    "    print(\"b is big\")"
   ]
  },
  {
   "cell_type": "code",
   "execution_count": 13,
   "metadata": {},
   "outputs": [
    {
     "name": "stdout",
     "output_type": "stream",
     "text": [
      "Enter a value1234566\n",
      "Enter b value1234534\n",
      "a is big\n"
     ]
    }
   ],
   "source": [
    "#program to find the biggest number of given two numbers\n",
    "a=int(input(\"Enter a value\"))\n",
    "b=int(input(\"Enter b value\"))\n",
    "if a>b:\n",
    "    print(\"a is big\")\n",
    "else:\n",
    "    print(\"b is big\")"
   ]
  },
  {
   "cell_type": "code",
   "execution_count": 15,
   "metadata": {},
   "outputs": [
    {
     "name": "stdout",
     "output_type": "stream",
     "text": [
      "Enter paswrd:9966\n",
      "Correct pswrd\n"
     ]
    }
   ],
   "source": [
    "#program to check the password\n",
    "oldpswd=9966\n",
    "pswd=int(input(\"Enter paswrd:\"))\n",
    "if pswd==oldpswd:\n",
    "    print(\"Correct pswrd\")\n",
    "else:\n",
    "    print(\"Wrong pswrd\")"
   ]
  },
  {
   "cell_type": "markdown",
   "metadata": {},
   "source": [
    "# 3. elif"
   ]
  },
  {
   "cell_type": "code",
   "execution_count": null,
   "metadata": {},
   "outputs": [],
   "source": [
    "syntax:\n",
    "    if condition:\n",
    "        ----------\n",
    "        ----------\n",
    "    elif condition2:\n",
    "        -----------\n",
    "        -----------\n",
    "    elif condition3:\n",
    "        -----------\n",
    "        -----------\n",
    "        .\n",
    "        .\n",
    "        .\n",
    "        .\n",
    "        .\n",
    "        .\n",
    "    else:\n",
    "        -------------\n",
    "        -------------"
   ]
  },
  {
   "cell_type": "code",
   "execution_count": 6,
   "metadata": {},
   "outputs": [
    {
     "name": "stdout",
     "output_type": "stream",
     "text": [
      "Enter student marks to know the grade:40\n",
      "C Grade\n"
     ]
    }
   ],
   "source": [
    "m=int(input(\"Enter student marks to know the grade:\"))\n",
    "if (m>=40 and m<=50):\n",
    "    print(\"C Grade\")\n",
    "elif (m>50 and m<=60):\n",
    "    print(\"B Grade\")\n",
    "elif (m>60 and m<=70):\n",
    "    print(\"A Grade\")\n",
    "elif (m>70 and m<=89):\n",
    "    print(\"First class with distinction\")\n",
    "elif (m>=90 and m<=100):\n",
    "    print(\"O Grade\")\n",
    "else:\n",
    "    print(\"Failed\")"
   ]
  },
  {
   "cell_type": "code",
   "execution_count": null,
   "metadata": {},
   "outputs": [],
   "source": [
    "Assignment :\n",
    "    1. Write a program to find the biggest num of given three nums\n",
    "    "
   ]
  },
  {
   "cell_type": "code",
   "execution_count": 10,
   "metadata": {},
   "outputs": [
    {
     "name": "stdout",
     "output_type": "stream",
     "text": [
      "Enter number to convert into the word:80\n",
      "Enter numbers between 0 to 9:\n"
     ]
    }
   ],
   "source": [
    "#program to convert digits to words\n",
    "n=int(input(\"Enter number to convert into the word:\"))\n",
    "if n==0:\n",
    "    print(\"ZERO\")\n",
    "elif n==1:\n",
    "    print(\"ONE\")\n",
    "elif n==2:\n",
    "    print(\"TWO\")\n",
    "elif n==3:\n",
    "    print(\"THREE\")\n",
    "elif n==4:\n",
    "    print(\"FOUR\")\n",
    "elif n==5:\n",
    "    print(\"FIVE\")\n",
    "elif n==6:\n",
    "    print(\"SIX\")\n",
    "elif n==7:\n",
    "    print(\"SEVEN\")\n",
    "elif n==8:\n",
    "    print(\"EIGHT\")\n",
    "elif n==9:\n",
    "    print(\"NINE\")\n",
    "else:\n",
    "    print(\"Enter numbers between 0 to 9:\")"
   ]
  },
  {
   "cell_type": "markdown",
   "metadata": {},
   "source": [
    "## Nested if else:"
   ]
  },
  {
   "cell_type": "code",
   "execution_count": 14,
   "metadata": {},
   "outputs": [
    {
     "name": "stdout",
     "output_type": "stream",
     "text": [
      "Enter PIN Number:1234\n",
      "ENter the amount to withdraw:4500\n",
      "YOur transaction is in process.. Please collect your cash\n",
      "Remaning Balance in your account: 500\n"
     ]
    }
   ],
   "source": [
    "#example program for ATM operations\n",
    "PIN=1234\n",
    "AB=5000\n",
    "UPIN=int(input(\"Enter PIN Number:\"))\n",
    "if PIN==UPIN:\n",
    "    UAMOUNT=int(input(\"ENter the amount to withdraw:\"))\n",
    "    if UAMOUNT<=AB:\n",
    "        print(\"YOur transaction is in process.. Please collect your cash\")\n",
    "        AB=AB-UAMOUNT\n",
    "        print(\"Remaning Balance in your account:\",AB)\n",
    "    else:\n",
    "        print(\"Insufficient funds ...\")\n",
    "else:\n",
    "    print(\"WRONG PIN ... Please Try again\")\n"
   ]
  },
  {
   "cell_type": "code",
   "execution_count": 15,
   "metadata": {},
   "outputs": [
    {
     "name": "stdout",
     "output_type": "stream",
     "text": [
      "Enter PIN Number:1234\n",
      "1. WITHDRAW       \t 2.PIN CHANGE \n",
      "3. BALANCE ENQUIRY\t 4.Mobile Number Change\n",
      "Press the number to process: 1\n",
      "ENter the amount to withdraw:4500\n",
      "YOur transaction is in process.. Please collect your cash\n",
      "Remaning Balance in your account: 500\n"
     ]
    }
   ],
   "source": [
    "#example program for ATM operations\n",
    "PIN=1234\n",
    "AB=5000\n",
    "UPIN=int(input(\"Enter PIN Number:\"))\n",
    "\n",
    "print(\"1. WITHDRAW       \\t 2.PIN CHANGE \")\n",
    "print(\"3. BALANCE ENQUIRY\\t 4.Mobile Number Change\")\n",
    "x=int(input(\"Press the number to process: \"))\n",
    "\n",
    "if x==1:\n",
    "    if PIN==UPIN:\n",
    "        UAMOUNT=int(input(\"ENter the amount to withdraw:\"))\n",
    "        if UAMOUNT<=AB:\n",
    "            print(\"YOur transaction is in process.. Please collect your cash\")\n",
    "            AB=AB-UAMOUNT\n",
    "            print(\"Remaning Balance in your account:\",AB)\n",
    "        else:\n",
    "            print(\"Insufficient funds ...\")\n",
    "    else:\n",
    "        print(\"WRONG PIN ... Please Try again\")\n",
    "elif x==2:\n",
    "    xpin=int(input(\"Enter old pin to change ur pin:\"))\n",
    "    if PIN==xpin:\n",
    "        PIN=8899\n",
    "        print(\"PIN changed successfully ...please dont share with any one...\")\n",
    "    else:\n",
    "        print(\"Old PIN is wrong please try again....\")\n",
    "elif x==3:\n",
    "    print(\"Account Balance is :\", AB)\n",
    "\n",
    "elif x==4:\n",
    "    print(\"Please contact your nearest bank to change phone number....\")\n",
    "else:\n",
    "    print(\"Wrong option selected\")\n"
   ]
  },
  {
   "cell_type": "code",
   "execution_count": 7,
   "metadata": {},
   "outputs": [
    {
     "name": "stdout",
     "output_type": "stream",
     "text": [
      "Enter PIN Number:1234\n",
      "1. WITHDRAW       \t 2.PIN CHANGE \n",
      "3. BALANCE ENQUIRY\t 4.Mobile Number Change\n",
      "Press the number to process: 2\n",
      "Enter old pin to change ur pin:1234\n",
      "Enter new pin to change old pin:7766\n",
      "PIN changed successfully ...please dont share with any one...\n",
      "Your new pin is: 7766\n"
     ]
    }
   ],
   "source": [
    "#example program for ATM operations\n",
    "PIN=1234\n",
    "AB=5000\n",
    "UPIN=int(input(\"Enter PIN Number:\"))\n",
    "if PIN==UPIN:\n",
    "    print(\"1. WITHDRAW       \\t 2.PIN CHANGE \")\n",
    "    print(\"3. BALANCE ENQUIRY\\t 4.Mobile Number Change\")\n",
    "    x=int(input(\"Press the number to process: \"))\n",
    "\n",
    "    if x==1:\n",
    "        if PIN==UPIN:\n",
    "            UAMOUNT=int(input(\"ENter the amount to withdraw:\"))\n",
    "            if UAMOUNT<=AB:\n",
    "                print(\"YOur transaction is in process.. Please collect your cash\")\n",
    "                AB=AB-UAMOUNT\n",
    "                print(\"Remaning Balance in your account:\",AB)\n",
    "            else:\n",
    "                print(\"Insufficient funds ...\")\n",
    "        else:\n",
    "            print(\"WRONG PIN ... Please Try again\")\n",
    "    elif x==2:\n",
    "        xpin=int(input(\"Enter old pin to change ur pin:\"))\n",
    "        if PIN==xpin:\n",
    "            ypin=int(input(\"Enter new pin to change old pin:\"))\n",
    "            PIN=ypin\n",
    "            print(\"PIN changed successfully ...please dont share with any one...\")\n",
    "            print(\"Your new pin is:\",PIN)\n",
    "        else:\n",
    "            print(\"Old PIN is wrong please try again....\")\n",
    "    elif x==3:\n",
    "        print(\"Account Balance is :\", AB)\n",
    "\n",
    "    elif x==4:\n",
    "        print(\"Please contact your nearest bank to change phone number....\")\n",
    "    else:\n",
    "        print(\"Wrong option selected\")\n",
    "else:\n",
    "    print(\"Wrong pin ... Please try again....\")\n",
    "\n",
    "\n"
   ]
  },
  {
   "cell_type": "markdown",
   "metadata": {},
   "source": [
    "# II. Interative Statements"
   ]
  },
  {
   "cell_type": "code",
   "execution_count": null,
   "metadata": {},
   "outputs": [],
   "source": [
    "If we want execute a group of statements multiple times then we should use iterative statements.\n",
    "\n",
    "1. for loop\n",
    "2. while loop"
   ]
  },
  {
   "cell_type": "markdown",
   "metadata": {},
   "source": [
    "## 1. for loop:"
   ]
  },
  {
   "cell_type": "code",
   "execution_count": null,
   "metadata": {},
   "outputs": [],
   "source": [
    "syntax:\n",
    "    for i in sequence:\n",
    "        -------------\n",
    "        -------------\n",
    "        -------------"
   ]
  },
  {
   "cell_type": "code",
   "execution_count": 1,
   "metadata": {},
   "outputs": [
    {
     "name": "stdout",
     "output_type": "stream",
     "text": [
      "H\n",
      "e\n",
      "l\n",
      "l\n",
      "o\n"
     ]
    }
   ],
   "source": [
    "#Example program for for loop\n",
    "s=\"Hello\"\n",
    "for i in s:\n",
    "    print(i)"
   ]
  },
  {
   "cell_type": "code",
   "execution_count": 3,
   "metadata": {},
   "outputs": [
    {
     "name": "stdout",
     "output_type": "stream",
     "text": [
      "H\n",
      "e\n",
      "l\n",
      "l\n",
      "o\n"
     ]
    }
   ],
   "source": [
    "#Example program for for loop\n",
    "s=\"Hello\"\n",
    "i=2\n",
    "for i in s:\n",
    "    print(i)"
   ]
  },
  {
   "cell_type": "code",
   "execution_count": 4,
   "metadata": {},
   "outputs": [
    {
     "name": "stdout",
     "output_type": "stream",
     "text": [
      "1\n",
      "2\n",
      "3\n",
      "4\n",
      "5\n",
      "6\n",
      "7\n",
      "8\n"
     ]
    }
   ],
   "source": [
    "#Example program for for loop\n",
    "l=[1,2,3,4,5,6,7,8]\n",
    "for i in l:\n",
    "    print(i)"
   ]
  },
  {
   "cell_type": "code",
   "execution_count": 5,
   "metadata": {},
   "outputs": [
    {
     "name": "stdout",
     "output_type": "stream",
     "text": [
      "1\n",
      "2\n",
      "3\n",
      "4\n",
      "5\n",
      "6\n",
      "7\n",
      "8\n"
     ]
    }
   ],
   "source": [
    "#Example program without for loop\n",
    "l=[1,2,3,4,5,6,7,8]\n",
    "print(l[0])\n",
    "print(l[1])\n",
    "print(l[2])\n",
    "print(l[3])\n",
    "print(l[4])\n",
    "print(l[5])\n",
    "print(l[6])\n",
    "print(l[7])\n",
    "    "
   ]
  },
  {
   "cell_type": "code",
   "execution_count": 7,
   "metadata": {},
   "outputs": [
    {
     "name": "stdout",
     "output_type": "stream",
     "text": [
      "Venky\n",
      "Venky\n",
      "Venky\n",
      "Venky\n",
      "Venky\n",
      "Venky\n",
      "Venky\n",
      "Venky\n"
     ]
    }
   ],
   "source": [
    "print(\"Venky\")\n",
    "print(\"Venky\")\n",
    "print(\"Venky\")\n",
    "print(\"Venky\")\n",
    "print(\"Venky\")\n",
    "print(\"Venky\")\n",
    "print(\"Venky\")\n",
    "print(\"Venky\")\n"
   ]
  },
  {
   "cell_type": "code",
   "execution_count": 11,
   "metadata": {},
   "outputs": [
    {
     "name": "stdout",
     "output_type": "stream",
     "text": [
      "Venky\n",
      "Venky\n",
      "Venky\n",
      "Venky\n",
      "Venky\n",
      "Venky\n",
      "Venky\n",
      "Venky\n",
      "Venky\n",
      "Venky\n"
     ]
    }
   ],
   "source": [
    "for i in range(10):\n",
    "    print(\"Venky\")"
   ]
  },
  {
   "cell_type": "code",
   "execution_count": 13,
   "metadata": {},
   "outputs": [
    {
     "name": "stdout",
     "output_type": "stream",
     "text": [
      "2\n",
      "4\n",
      "6\n",
      "8\n",
      "10\n",
      "12\n",
      "14\n",
      "16\n",
      "18\n"
     ]
    }
   ],
   "source": [
    "for i in range(1,21):\n",
    "    if i%2==0:\n",
    "        print(i)"
   ]
  },
  {
   "cell_type": "code",
   "execution_count": 16,
   "metadata": {},
   "outputs": [
    {
     "name": "stdout",
     "output_type": "stream",
     "text": [
      "2\n",
      "4\n",
      "6\n",
      "8\n",
      "10\n",
      "12\n",
      "14\n",
      "16\n",
      "18\n"
     ]
    }
   ],
   "source": [
    "#program to print even nums between given range \n",
    "for i in range(2,20,2):\n",
    "    print(i)"
   ]
  },
  {
   "cell_type": "code",
   "execution_count": 17,
   "metadata": {},
   "outputs": [
    {
     "name": "stdout",
     "output_type": "stream",
     "text": [
      "1\n",
      "3\n",
      "5\n",
      "7\n",
      "9\n",
      "11\n",
      "13\n",
      "15\n",
      "17\n",
      "19\n"
     ]
    }
   ],
   "source": [
    "#program to print even nums between given range \n",
    "for i in range(1,20,2):\n",
    "    print(i)"
   ]
  },
  {
   "cell_type": "code",
   "execution_count": 18,
   "metadata": {},
   "outputs": [
    {
     "name": "stdout",
     "output_type": "stream",
     "text": [
      "1\n",
      "3\n",
      "5\n",
      "7\n",
      "9\n",
      "11\n",
      "13\n",
      "15\n",
      "17\n",
      "19\n"
     ]
    }
   ],
   "source": [
    "#program to print odd numbers using for loop\n",
    "for i in range(1,21):\n",
    "    if i%2!=0:\n",
    "        print(i)"
   ]
  },
  {
   "cell_type": "code",
   "execution_count": 21,
   "metadata": {},
   "outputs": [
    {
     "name": "stdout",
     "output_type": "stream",
     "text": [
      "10\n",
      "9\n",
      "8\n",
      "7\n",
      "6\n",
      "5\n",
      "4\n",
      "3\n",
      "2\n",
      "1\n"
     ]
    }
   ],
   "source": [
    "#program to print numbers from 10 to 1\n",
    "for i in range(10,0,-1):\n",
    "    print(i)"
   ]
  },
  {
   "cell_type": "code",
   "execution_count": 22,
   "metadata": {},
   "outputs": [
    {
     "name": "stdout",
     "output_type": "stream",
     "text": [
      "Sum of list of values is: 49\n"
     ]
    }
   ],
   "source": [
    "#program to find sum of list values\n",
    "l=[1,2,3,4,7,20,12]\n",
    "sum=0\n",
    "for i in l:\n",
    "    sum=sum+i\n",
    "print(\"Sum of list of values is:\",sum)"
   ]
  },
  {
   "cell_type": "code",
   "execution_count": null,
   "metadata": {},
   "outputs": [],
   "source": []
  }
 ],
 "metadata": {
  "kernelspec": {
   "display_name": "Python 3",
   "language": "python",
   "name": "python3"
  },
  "language_info": {
   "codemirror_mode": {
    "name": "ipython",
    "version": 3
   },
   "file_extension": ".py",
   "mimetype": "text/x-python",
   "name": "python",
   "nbconvert_exporter": "python",
   "pygments_lexer": "ipython3",
   "version": "3.7.4"
  }
 },
 "nbformat": 4,
 "nbformat_minor": 4
}
